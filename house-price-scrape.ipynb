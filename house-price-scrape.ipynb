{
 "cells": [
  {
   "cell_type": "code",
   "execution_count": 1,
   "id": "a8dd7cd9",
   "metadata": {},
   "outputs": [],
   "source": [
    "#Import required selenium modules\n",
    "from selenium import webdriver\n",
    "from selenium.webdriver.chrome.service import Service\n",
    "from selenium.webdriver.chrome.options import Options\n",
    "from selenium.common.exceptions import NoSuchElementException, TimeoutException, StaleElementReferenceException\n",
    "from selenium.webdriver.common.by import By\n",
    "from selenium.webdriver.support.ui import WebDriverWait\n",
    "from selenium.webdriver.support import expected_conditions as EC\n",
    "\n",
    "#Import webdriver_manager for easy management (auto-updation, global path) of driver executable\n",
    "from webdriver_manager.chrome import ChromeDriverManager\n",
    "\n",
    "import time #time for various wait/sleep functions\n",
    "import csv #csv for storing the scraped data"
   ]
  },
  {
   "cell_type": "code",
   "execution_count": 20,
   "id": "73a0b2cb",
   "metadata": {},
   "outputs": [
    {
     "name": "stdout",
     "output_type": "stream",
     "text": [
      "Clicked 'Load More'\n",
      "Clicked 'Load More'\n",
      "No ad_detail\n",
      "No ad_detail\n",
      "No ad_detail\n"
     ]
    }
   ],
   "source": [
    "#Import required selenium modules\n",
    "from selenium import webdriver\n",
    "from selenium.webdriver.chrome.service import Service\n",
    "from selenium.webdriver.chrome.options import Options\n",
    "from selenium.common.exceptions import NoSuchElementException, TimeoutException, StaleElementReferenceException\n",
    "from selenium.webdriver.common.by import By\n",
    "from selenium.webdriver.support.ui import WebDriverWait\n",
    "from selenium.webdriver.support import expected_conditions as EC\n",
    "\n",
    "#Import webdriver_manager for easy management (auto-updation, global path) of driver executable\n",
    "from webdriver_manager.chrome import ChromeDriverManager\n",
    "\n",
    "import time #time for various wait/sleep functions\n",
    "import csv #csv for storing the scraped data\n",
    "#The link to scrap\n",
    "url = \"https://www.olx.co.id/jakarta-selatan_g4000030/q-mobil\"\n",
    "\n",
    "#Set chromedriver location (automated using webdriver-manager)\n",
    "service = Service(executable_path=ChromeDriverManager().install())\n",
    "#create a chrome webdriver instance\n",
    "driver = webdriver.Chrome(service=service)\n",
    "#navigate the browser instance to the url\n",
    "driver.get(url)\n",
    "\n",
    "\n",
    "while True:\n",
    "    '''\n",
    "    While loop to load all results for the search query by finding and clicking on the \"Load More\" button unless\n",
    "    the button doesn't exist i.e., all results loaded, no more results to load. Without this, only the first 20 listings\n",
    "    will be scraped\n",
    "    '''\n",
    "    try:\n",
    "        WebDriverWait(driver, 10).until(EC.presence_of_element_located((By.XPATH, '//*[@data-aut-id=\"btnLoadMore\"]')))\n",
    "        driver.find_element(By.XPATH, '//*[@data-aut-id=\"btnLoadMore\"]').click()\n",
    "        print(\"Clicked 'Load More'\")\n",
    "    except ( NoSuchElementException, TimeoutException, StaleElementReferenceException ):\n",
    "        break\n",
    "      \n",
    "\n",
    "'''FIND LISTINGS AND STORE TO A LIST'''\n",
    "#Finding the UL element containing all the search result items (as list items)\n",
    "# listings_list = driver.find_element(By.CSS_SELECTOR, \"#container > main > div > div > section > div > div > div:nth-child(6) > div._3etsg > div > div:nth-child(2) > ul\")\n",
    "car_listing_ul = None\n",
    "all_uls = driver.find_elements(By.TAG_NAME, 'ul')\n",
    "for uls in all_uls:\n",
    "    if uls.get_attribute(\"data-aut-id\") == \"itemsList\":\n",
    "        car_listing_ul = uls\n",
    "\n",
    "#Finding All list items (li) inside the UL list\n",
    "listings = car_listing_ul.find_elements(By.TAG_NAME, \"li\")\n",
    "\n",
    "#Initialize empty list to store scrapped data (for further writing on a csv file)\n",
    "scraped_datas = []\n",
    "\n",
    "#Loop through each list element (list item) and further find required info from their respective XPath\n",
    "for listing in listings:\n",
    "    if listing.get_attribute('data-aut-id') == 'itemBox':\n",
    "        try:\n",
    "            ad_link = listing.find_element(By.XPATH, \"./a\").get_attribute(\"href\")\n",
    "        except NoSuchElementException:\n",
    "            print(\"No ad_link\")\n",
    "            break\n",
    "       \n",
    "        try:\n",
    "            ad_price = listing.find_element(By.CSS_SELECTOR, \"span[data-aut-id='itemPrice']\").text\n",
    "        except NoSuchElementException:\n",
    "            print(\"No ad_price\")\n",
    "        try:\n",
    "            ad_title = listing.find_element(By.CSS_SELECTOR, \"span[data-aut-id='itemTitle']\").text\n",
    "        except NoSuchElementException:\n",
    "            print(\"No ad_title\")\n",
    "        try:\n",
    "            ad_detail = listing.find_element(By.CSS_SELECTOR, \"span[data-aut-id='itemDetails']\").text\n",
    "        except NoSuchElementException:\n",
    "            print(\"No ad_detail\")\n",
    "        try:\n",
    "            ad_location = listing.find_element(By.CSS_SELECTOR, \"span[data-aut-id='item-location']\").text.split(\"\\n\")[0]\n",
    "        except NoSuchElementException:\n",
    "            print(\"No ad_location\")\n",
    "            \n",
    "        scraped_datas.append([ad_link, ad_price, ad_title, ad_detail, ad_location])\n",
    "\n",
    "'''WRITE SCRAPED LIST TO CSV'''\n",
    "\n",
    "with open(f'scraped_data/mobil-olx-2.csv', 'w', newline='', encoding=\"utf-8\") as file: \n",
    "    writer = csv.writer(file)\n",
    "    headers = ['Ad Link','Price', 'Ad Title', 'Ad Detail', 'Ad Location']\n",
    "    writer.writerow(headers)\n",
    "    for data in scraped_datas:\n",
    "        writer.writerow(data)"
   ]
  },
  {
   "cell_type": "code",
   "execution_count": 4,
   "id": "9cb6a493",
   "metadata": {},
   "outputs": [],
   "source": [
    "import pandas as pd"
   ]
  },
  {
   "cell_type": "code",
   "execution_count": 5,
   "id": "10311127",
   "metadata": {},
   "outputs": [],
   "source": [
    "data = pd.read_csv(\"scraped_data/house-price-bogor-olx.csv\")"
   ]
  },
  {
   "cell_type": "code",
   "execution_count": 6,
   "id": "493034d0",
   "metadata": {},
   "outputs": [
    {
     "data": {
      "text/html": [
       "<div>\n",
       "<style scoped>\n",
       "    .dataframe tbody tr th:only-of-type {\n",
       "        vertical-align: middle;\n",
       "    }\n",
       "\n",
       "    .dataframe tbody tr th {\n",
       "        vertical-align: top;\n",
       "    }\n",
       "\n",
       "    .dataframe thead th {\n",
       "        text-align: right;\n",
       "    }\n",
       "</style>\n",
       "<table border=\"1\" class=\"dataframe\">\n",
       "  <thead>\n",
       "    <tr style=\"text-align: right;\">\n",
       "      <th></th>\n",
       "      <th>Ad Link</th>\n",
       "      <th>Price</th>\n",
       "      <th>Ad Title</th>\n",
       "      <th>Ad Detail</th>\n",
       "      <th>Ad Location</th>\n",
       "    </tr>\n",
       "  </thead>\n",
       "  <tbody>\n",
       "    <tr>\n",
       "      <th>0</th>\n",
       "      <td>https://www.olx.co.id/item/dijual-rumah-di-lok...</td>\n",
       "      <td>Rp 595.000.000</td>\n",
       "      <td>Dijual Rumah di lokasi Strategis di kota Bogor</td>\n",
       "      <td>2 KT - 2 KM - 60 m2</td>\n",
       "      <td>TANAH SEREAL, BOGOR KOTA</td>\n",
       "    </tr>\n",
       "    <tr>\n",
       "      <th>1</th>\n",
       "      <td>https://www.olx.co.id/item/dijual-rumah-murah-...</td>\n",
       "      <td>Rp 2.150.000.000</td>\n",
       "      <td>Dijual rumah murah di bogor bnr</td>\n",
       "      <td>4 KT - 4 KM - 250 m2</td>\n",
       "      <td>TAMANSARI, BOGOR KAB.</td>\n",
       "    </tr>\n",
       "    <tr>\n",
       "      <th>2</th>\n",
       "      <td>https://www.olx.co.id/item/dijual-murah-bu-ruk...</td>\n",
       "      <td>Rp 210.000.000</td>\n",
       "      <td>Dijual Murah, BU, Ruko Dekat St. Cilebut (200 ...</td>\n",
       "      <td>1 KT - 1 KM - 31 m2</td>\n",
       "      <td>TANAH SEREAL, BOGOR KOTA</td>\n",
       "    </tr>\n",
       "    <tr>\n",
       "      <th>3</th>\n",
       "      <td>https://www.olx.co.id/item/rumah-strategis-dek...</td>\n",
       "      <td>Rp 777.000.000</td>\n",
       "      <td>Rumah Strategis Dekat Tol &amp; Stasiun di Sindang...</td>\n",
       "      <td>2 KT - 2 KM - 65 m2</td>\n",
       "      <td>BOGOR BARAT - KOTA, BOGOR KOTA</td>\n",
       "    </tr>\n",
       "    <tr>\n",
       "      <th>4</th>\n",
       "      <td>https://www.olx.co.id/item/dijual-cepat-rumah-...</td>\n",
       "      <td>Rp 650.000.000</td>\n",
       "      <td>Dijual Cepat Rumah Bogor Ciomas Dekat RSUD</td>\n",
       "      <td>3 KT - 2 KM - 150 m2</td>\n",
       "      <td>BOGOR SELATAN - KOTA, BOGOR KOTA</td>\n",
       "    </tr>\n",
       "    <tr>\n",
       "      <th>...</th>\n",
       "      <td>...</td>\n",
       "      <td>...</td>\n",
       "      <td>...</td>\n",
       "      <td>...</td>\n",
       "      <td>...</td>\n",
       "    </tr>\n",
       "    <tr>\n",
       "      <th>135</th>\n",
       "      <td>https://www.olx.co.id/item/jual-murah-rumah-3-...</td>\n",
       "      <td>Rp 249.000.000</td>\n",
       "      <td>Jual Murah Rumah 3 Kamar IPB Bogor</td>\n",
       "      <td>3 KT - 1 KM - 60 m2</td>\n",
       "      <td>BOGOR BARAT - KOTA, BOGOR KOTA</td>\n",
       "    </tr>\n",
       "    <tr>\n",
       "      <th>136</th>\n",
       "      <td>https://www.olx.co.id/item/bismillah-jual-cepa...</td>\n",
       "      <td>Rp 1.700.000.000</td>\n",
       "      <td>Bismillah jual cepat rumah dalam cluster siap ...</td>\n",
       "      <td>4 KT - 4 KM - 140 m2</td>\n",
       "      <td>TANAH SEREAL, BOGOR KOTA</td>\n",
       "    </tr>\n",
       "    <tr>\n",
       "      <th>137</th>\n",
       "      <td>https://www.olx.co.id/item/perumahan-islami-di...</td>\n",
       "      <td>Rp 774.000.000</td>\n",
       "      <td>Perumahan Islami di Cifor Dekat Cilendek, Stas...</td>\n",
       "      <td>3 KT - 2 KM - 60 m2</td>\n",
       "      <td>BOGOR BARAT - KOTA, BOGOR KOTA</td>\n",
       "    </tr>\n",
       "    <tr>\n",
       "      <th>138</th>\n",
       "      <td>https://www.olx.co.id/item/di-jual-murah-rumah...</td>\n",
       "      <td>Rp 500.000.000</td>\n",
       "      <td>DI JUAL MURAH RUMAH DI VILA CIOMAS INDAH BOGOR</td>\n",
       "      <td>2 KT - 1 KM - 60 m2</td>\n",
       "      <td>CIOMAS, BOGOR KAB.</td>\n",
       "    </tr>\n",
       "    <tr>\n",
       "      <th>139</th>\n",
       "      <td>https://www.olx.co.id/item/rumah-dijual-di-vil...</td>\n",
       "      <td>Rp 690.000.000</td>\n",
       "      <td>Rumah dijual di villa Bogor indah 5, Bogor, si...</td>\n",
       "      <td>2 KT - 1 KM - 51 m2</td>\n",
       "      <td>BOGOR TENGAH - KOTA, BOGOR KOTA</td>\n",
       "    </tr>\n",
       "  </tbody>\n",
       "</table>\n",
       "<p>140 rows × 5 columns</p>\n",
       "</div>"
      ],
      "text/plain": [
       "                                               Ad Link             Price  \\\n",
       "0    https://www.olx.co.id/item/dijual-rumah-di-lok...    Rp 595.000.000   \n",
       "1    https://www.olx.co.id/item/dijual-rumah-murah-...  Rp 2.150.000.000   \n",
       "2    https://www.olx.co.id/item/dijual-murah-bu-ruk...    Rp 210.000.000   \n",
       "3    https://www.olx.co.id/item/rumah-strategis-dek...    Rp 777.000.000   \n",
       "4    https://www.olx.co.id/item/dijual-cepat-rumah-...    Rp 650.000.000   \n",
       "..                                                 ...               ...   \n",
       "135  https://www.olx.co.id/item/jual-murah-rumah-3-...    Rp 249.000.000   \n",
       "136  https://www.olx.co.id/item/bismillah-jual-cepa...  Rp 1.700.000.000   \n",
       "137  https://www.olx.co.id/item/perumahan-islami-di...    Rp 774.000.000   \n",
       "138  https://www.olx.co.id/item/di-jual-murah-rumah...    Rp 500.000.000   \n",
       "139  https://www.olx.co.id/item/rumah-dijual-di-vil...    Rp 690.000.000   \n",
       "\n",
       "                                              Ad Title             Ad Detail  \\\n",
       "0       Dijual Rumah di lokasi Strategis di kota Bogor   2 KT - 2 KM - 60 m2   \n",
       "1                      Dijual rumah murah di bogor bnr  4 KT - 4 KM - 250 m2   \n",
       "2    Dijual Murah, BU, Ruko Dekat St. Cilebut (200 ...   1 KT - 1 KM - 31 m2   \n",
       "3    Rumah Strategis Dekat Tol & Stasiun di Sindang...   2 KT - 2 KM - 65 m2   \n",
       "4           Dijual Cepat Rumah Bogor Ciomas Dekat RSUD  3 KT - 2 KM - 150 m2   \n",
       "..                                                 ...                   ...   \n",
       "135                 Jual Murah Rumah 3 Kamar IPB Bogor   3 KT - 1 KM - 60 m2   \n",
       "136  Bismillah jual cepat rumah dalam cluster siap ...  4 KT - 4 KM - 140 m2   \n",
       "137  Perumahan Islami di Cifor Dekat Cilendek, Stas...   3 KT - 2 KM - 60 m2   \n",
       "138     DI JUAL MURAH RUMAH DI VILA CIOMAS INDAH BOGOR   2 KT - 1 KM - 60 m2   \n",
       "139  Rumah dijual di villa Bogor indah 5, Bogor, si...   2 KT - 1 KM - 51 m2   \n",
       "\n",
       "                          Ad Location  \n",
       "0            TANAH SEREAL, BOGOR KOTA  \n",
       "1               TAMANSARI, BOGOR KAB.  \n",
       "2            TANAH SEREAL, BOGOR KOTA  \n",
       "3      BOGOR BARAT - KOTA, BOGOR KOTA  \n",
       "4    BOGOR SELATAN - KOTA, BOGOR KOTA  \n",
       "..                                ...  \n",
       "135    BOGOR BARAT - KOTA, BOGOR KOTA  \n",
       "136          TANAH SEREAL, BOGOR KOTA  \n",
       "137    BOGOR BARAT - KOTA, BOGOR KOTA  \n",
       "138                CIOMAS, BOGOR KAB.  \n",
       "139   BOGOR TENGAH - KOTA, BOGOR KOTA  \n",
       "\n",
       "[140 rows x 5 columns]"
      ]
     },
     "execution_count": 6,
     "metadata": {},
     "output_type": "execute_result"
    }
   ],
   "source": [
    "data"
   ]
  },
  {
   "cell_type": "code",
   "execution_count": 31,
   "id": "0e15ff75",
   "metadata": {},
   "outputs": [],
   "source": [
    "data.drop(\"Bathrooms\", inplace=True, axis=1)"
   ]
  },
  {
   "cell_type": "code",
   "execution_count": 33,
   "id": "510c6574",
   "metadata": {},
   "outputs": [],
   "source": [
    "data.insert(3,\"Bathrooms\",\"\")"
   ]
  },
  {
   "cell_type": "code",
   "execution_count": 34,
   "id": "d1f2286d",
   "metadata": {},
   "outputs": [
    {
     "data": {
      "text/html": [
       "<div>\n",
       "<style scoped>\n",
       "    .dataframe tbody tr th:only-of-type {\n",
       "        vertical-align: middle;\n",
       "    }\n",
       "\n",
       "    .dataframe tbody tr th {\n",
       "        vertical-align: top;\n",
       "    }\n",
       "\n",
       "    .dataframe thead th {\n",
       "        text-align: right;\n",
       "    }\n",
       "</style>\n",
       "<table border=\"1\" class=\"dataframe\">\n",
       "  <thead>\n",
       "    <tr style=\"text-align: right;\">\n",
       "      <th></th>\n",
       "      <th>Ad Link</th>\n",
       "      <th>Price</th>\n",
       "      <th>Bedrooms</th>\n",
       "      <th>Bathrooms</th>\n",
       "      <th>Area</th>\n",
       "      <th>Ad Title</th>\n",
       "      <th>Ad Detail</th>\n",
       "      <th>Ad Location</th>\n",
       "    </tr>\n",
       "  </thead>\n",
       "  <tbody>\n",
       "    <tr>\n",
       "      <th>0</th>\n",
       "      <td>https://www.olx.co.id/item/dijual-rumah-di-lok...</td>\n",
       "      <td>Rp 595.000.000</td>\n",
       "      <td></td>\n",
       "      <td></td>\n",
       "      <td></td>\n",
       "      <td>Dijual Rumah di lokasi Strategis di kota Bogor</td>\n",
       "      <td>2 KT - 2 KM - 60 m2</td>\n",
       "      <td>TANAH SEREAL, BOGOR KOTA</td>\n",
       "    </tr>\n",
       "    <tr>\n",
       "      <th>1</th>\n",
       "      <td>https://www.olx.co.id/item/dijual-rumah-murah-...</td>\n",
       "      <td>Rp 2.150.000.000</td>\n",
       "      <td></td>\n",
       "      <td></td>\n",
       "      <td></td>\n",
       "      <td>Dijual rumah murah di bogor bnr</td>\n",
       "      <td>4 KT - 4 KM - 250 m2</td>\n",
       "      <td>TAMANSARI, BOGOR KAB.</td>\n",
       "    </tr>\n",
       "    <tr>\n",
       "      <th>2</th>\n",
       "      <td>https://www.olx.co.id/item/dijual-murah-bu-ruk...</td>\n",
       "      <td>Rp 210.000.000</td>\n",
       "      <td></td>\n",
       "      <td></td>\n",
       "      <td></td>\n",
       "      <td>Dijual Murah, BU, Ruko Dekat St. Cilebut (200 ...</td>\n",
       "      <td>1 KT - 1 KM - 31 m2</td>\n",
       "      <td>TANAH SEREAL, BOGOR KOTA</td>\n",
       "    </tr>\n",
       "    <tr>\n",
       "      <th>3</th>\n",
       "      <td>https://www.olx.co.id/item/rumah-strategis-dek...</td>\n",
       "      <td>Rp 777.000.000</td>\n",
       "      <td></td>\n",
       "      <td></td>\n",
       "      <td></td>\n",
       "      <td>Rumah Strategis Dekat Tol &amp; Stasiun di Sindang...</td>\n",
       "      <td>2 KT - 2 KM - 65 m2</td>\n",
       "      <td>BOGOR BARAT - KOTA, BOGOR KOTA</td>\n",
       "    </tr>\n",
       "    <tr>\n",
       "      <th>4</th>\n",
       "      <td>https://www.olx.co.id/item/dijual-cepat-rumah-...</td>\n",
       "      <td>Rp 650.000.000</td>\n",
       "      <td></td>\n",
       "      <td></td>\n",
       "      <td></td>\n",
       "      <td>Dijual Cepat Rumah Bogor Ciomas Dekat RSUD</td>\n",
       "      <td>3 KT - 2 KM - 150 m2</td>\n",
       "      <td>BOGOR SELATAN - KOTA, BOGOR KOTA</td>\n",
       "    </tr>\n",
       "  </tbody>\n",
       "</table>\n",
       "</div>"
      ],
      "text/plain": [
       "                                             Ad Link             Price  \\\n",
       "0  https://www.olx.co.id/item/dijual-rumah-di-lok...    Rp 595.000.000   \n",
       "1  https://www.olx.co.id/item/dijual-rumah-murah-...  Rp 2.150.000.000   \n",
       "2  https://www.olx.co.id/item/dijual-murah-bu-ruk...    Rp 210.000.000   \n",
       "3  https://www.olx.co.id/item/rumah-strategis-dek...    Rp 777.000.000   \n",
       "4  https://www.olx.co.id/item/dijual-cepat-rumah-...    Rp 650.000.000   \n",
       "\n",
       "  Bedrooms Bathrooms Area                                           Ad Title  \\\n",
       "0                             Dijual Rumah di lokasi Strategis di kota Bogor   \n",
       "1                                            Dijual rumah murah di bogor bnr   \n",
       "2                          Dijual Murah, BU, Ruko Dekat St. Cilebut (200 ...   \n",
       "3                          Rumah Strategis Dekat Tol & Stasiun di Sindang...   \n",
       "4                                 Dijual Cepat Rumah Bogor Ciomas Dekat RSUD   \n",
       "\n",
       "              Ad Detail                       Ad Location  \n",
       "0   2 KT - 2 KM - 60 m2          TANAH SEREAL, BOGOR KOTA  \n",
       "1  4 KT - 4 KM - 250 m2             TAMANSARI, BOGOR KAB.  \n",
       "2   1 KT - 1 KM - 31 m2          TANAH SEREAL, BOGOR KOTA  \n",
       "3   2 KT - 2 KM - 65 m2    BOGOR BARAT - KOTA, BOGOR KOTA  \n",
       "4  3 KT - 2 KM - 150 m2  BOGOR SELATAN - KOTA, BOGOR KOTA  "
      ]
     },
     "execution_count": 34,
     "metadata": {},
     "output_type": "execute_result"
    }
   ],
   "source": [
    "data.head()"
   ]
  },
  {
   "cell_type": "code",
   "execution_count": 36,
   "id": "bad9311e",
   "metadata": {},
   "outputs": [],
   "source": [
    "ad_detail = data['Ad Detail']"
   ]
  },
  {
   "cell_type": "code",
   "execution_count": 77,
   "id": "a3bebb28",
   "metadata": {},
   "outputs": [
    {
     "data": {
      "text/plain": [
       "19"
      ]
     },
     "execution_count": 77,
     "metadata": {},
     "output_type": "execute_result"
    }
   ],
   "source": [
    "len(ad_detail[0])"
   ]
  },
  {
   "cell_type": "code",
   "execution_count": 76,
   "id": "2d53030b",
   "metadata": {},
   "outputs": [
    {
     "data": {
      "text/plain": [
       "20"
      ]
     },
     "execution_count": 76,
     "metadata": {},
     "output_type": "execute_result"
    }
   ],
   "source": [
    "len(ad_detail[4])"
   ]
  },
  {
   "cell_type": "code",
   "execution_count": 89,
   "id": "12b4d8f2",
   "metadata": {},
   "outputs": [],
   "source": [
    "bedrooms = []\n",
    "\n",
    "for i in ad_detail:\n",
    "    bedroom = [i][0]\n",
    "    \n",
    "    "
   ]
  },
  {
   "cell_type": "code",
   "execution_count": 72,
   "id": "3a35e6a1",
   "metadata": {},
   "outputs": [
    {
     "data": {
      "text/plain": [
       "'2'"
      ]
     },
     "execution_count": 72,
     "metadata": {},
     "output_type": "execute_result"
    }
   ],
   "source": [
    "bathroom = ad_detail[0][7]\n",
    "bathroom"
   ]
  },
  {
   "cell_type": "code",
   "execution_count": 74,
   "id": "0ef3fd83",
   "metadata": {},
   "outputs": [
    {
     "data": {
      "text/plain": [
       "'150'"
      ]
     },
     "execution_count": 74,
     "metadata": {},
     "output_type": "execute_result"
    }
   ],
   "source": [
    "area = ad_detail[4][-6:][:3]\n",
    "area"
   ]
  },
  {
   "cell_type": "markdown",
   "id": "65eb291d",
   "metadata": {},
   "source": []
  }
 ],
 "metadata": {
  "kernelspec": {
   "display_name": "Python 3 (ipykernel)",
   "language": "python",
   "name": "python3"
  },
  "language_info": {
   "codemirror_mode": {
    "name": "ipython",
    "version": 3
   },
   "file_extension": ".py",
   "mimetype": "text/x-python",
   "name": "python",
   "nbconvert_exporter": "python",
   "pygments_lexer": "ipython3",
   "version": "3.11.2"
  }
 },
 "nbformat": 4,
 "nbformat_minor": 5
}
